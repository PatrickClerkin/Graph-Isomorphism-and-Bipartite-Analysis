{
 "cells": [
  {
   "cell_type": "code",
   "execution_count": 2,
   "id": "0a111290-3d98-435e-9bc5-84642a94cf34",
   "metadata": {},
   "outputs": [
    {
     "name": "stdout",
     "output_type": "stream",
     "text": [
      "Testing criterion a: Equal number of vertices\n",
      "Result: True\n"
     ]
    }
   ],
   "source": [
    "import numpy as np\n",
    "\n",
    "def are_equal_vertices(graph1, graph2):\n",
    "    \"\"\"Check if two graphs have equal number of vertices (criteria a)\"\"\"\n",
    "    n1 = graph1.shape[0]\n",
    "    n2 = graph2.shape[0]\n",
    "    return n1 == n2\n",
    "\n",
    "# Test with an example\n",
    "g1 = np.array([\n",
    "    [0, 1, 0, 0],\n",
    "    [1, 0, 1, 0],\n",
    "    [0, 1, 0, 1],\n",
    "    [0, 0, 1, 0]\n",
    "])\n",
    "\n",
    "g2 = np.array([\n",
    "    [0, 1, 1, 1],\n",
    "    [1, 0, 0, 0],\n",
    "    [1, 0, 0, 0],\n",
    "    [1, 0, 0, 0]\n",
    "])\n",
    "\n",
    "print(\"Testing criteria a: Equal number of vertices\")\n",
    "print(f\"Result: {are_equal_vertices(g1, g2)}\")"
   ]
  },
  {
   "cell_type": "code",
   "execution_count": null,
   "id": "7ee6e6c1-556d-4afc-b2fd-64dc6d39af63",
   "metadata": {},
   "outputs": [],
   "source": []
  },
  {
   "cell_type": "code",
   "execution_count": null,
   "id": "f0dc3a22-4d64-4e4b-adf1-2d82888a38ee",
   "metadata": {},
   "outputs": [],
   "source": []
  }
 ],
 "metadata": {
  "kernelspec": {
   "display_name": "Python 3 (ipykernel)",
   "language": "python",
   "name": "python3"
  },
  "language_info": {
   "codemirror_mode": {
    "name": "ipython",
    "version": 3
   },
   "file_extension": ".py",
   "mimetype": "text/x-python",
   "name": "python",
   "nbconvert_exporter": "python",
   "pygments_lexer": "ipython3",
   "version": "3.12.7"
  }
 },
 "nbformat": 4,
 "nbformat_minor": 5
}
